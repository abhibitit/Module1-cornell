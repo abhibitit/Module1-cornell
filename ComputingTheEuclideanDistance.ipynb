{
 "cells": [
  {
   "cell_type": "markdown",
   "metadata": {},
   "source": [
    "# Computing the Euclidean Distance"
   ]
  },
  {
   "cell_type": "code",
   "execution_count": null,
   "metadata": {},
   "outputs": [],
   "source": [
    "import pandas as pd\n",
    "import numpy as np\n",
    "import os \n",
    "import math\n",
    "import random\n",
    "import matplotlib.pyplot as plt"
   ]
  },
  {
   "cell_type": "markdown",
   "metadata": {},
   "source": [
    "### Load a Data Set and Save it as a Pandas DataFrame\n",
    "\n",
    "We will work with a new data set called \"cell2cell.\" This data set is used to analyze cellular telephone customers and can be used to predict whether a customer will remain with their current telecom service or leave to another.\n",
    "\n"
   ]
  },
  {
   "cell_type": "code",
   "execution_count": null,
   "metadata": {},
   "outputs": [],
   "source": [
    "filename = os.path.join(os.getcwd(), \"data\",\"cell2cell.csv\")\n",
    "df = pd.read_csv(filename, header=0)"
   ]
  },
  {
   "cell_type": "markdown",
   "metadata": {},
   "source": [
    "### Inspect the Data"
   ]
  },
  {
   "cell_type": "code",
   "execution_count": null,
   "metadata": {},
   "outputs": [],
   "source": [
    "df.head()"
   ]
  },
  {
   "cell_type": "code",
   "execution_count": null,
   "metadata": {},
   "outputs": [],
   "source": [
    "df.dtypes"
   ]
  },
  {
   "cell_type": "code",
   "execution_count": null,
   "metadata": {},
   "outputs": [],
   "source": [
    "df.shape"
   ]
  },
  {
   "cell_type": "markdown",
   "metadata": {},
   "source": [
    "## Euclidean Distance"
   ]
  },
  {
   "cell_type": "markdown",
   "metadata": {},
   "source": [
    "#### KNN\n",
    "<p>k-Nearest Neighbors (KNN) is an instance-based learning algorithm. To make a classification for a given unlabeled example $A$, we search the training data for the $k$ nearest neighbors, as defined by some distance metric $d(A,B)$ in which $B$ represents another example. We choose the most common label among the nearest neighbor examples to be our prediction (label) for the unlabeled example.<br>\n",
    "    \n",
    "The most commonly used distance metric for KNN is the Euclidean distance.\n",
    "\n",
    "#### Euclidean Distance\n",
    "\n",
    "For two n-dimensional, real-valued vectors $A,B \\in \\mathbb{R}^n$, the Euclidean distance $eud$ is defined as:\n",
    "\n",
    "$$ eud(A, B) = \\sqrt{\\sum_{i=1}^{n}{(B_i-A_i)^2}}$$\n",
    "\n",
    "\n",
    "Euclidean distance finds the distance between two vectors of the same length. In this formula, $A_i$ is the $ith$ coordinate of vector $A$, and $B_i$ is the $ith$ coordinate of vector $B$.\n",
    "\n",
    "\n",
    "Let's relate this to a dataset. Let's think of the vectors $A$ and $B$ as being two examples (rows) in a dataset. \n",
    "\n",
    "Let $A = <x^a_1,...x^a_n>$ be a $n$-dimensional vector ($x^a_i$ is the $ith$ feature in example $A$ and $n$ is the total number of features). \n",
    "\n",
    "Then for two vectors (examples) $A$ and $B$ the Euclidean distance is defined as:<br><br>\n",
    "<center>$eud(A, B) = \\sqrt{(x^b_1-x^a_1)^2+ (x^b_2-x^a_2)^2+...+(x^b_n-x^a_n)^2} = \\sqrt{\\sum\\limits_{i=1}^n (x^b_i-x^a_i)^2}$\n",
    "</center>\n",
    "<br><br>\n",
    "</p>\n"
   ]
  },
  {
   "cell_type": "markdown",
   "metadata": {},
   "source": [
    "To visualize KNN, you can picture plotting the examples (also called data points) in our dataset and finding the distance between them. Let's create a visualization to see how we plot examples and find the distance between each example.\n",
    "\n",
    "To easily visualize this, let's plot two examples from DataFrame `df`. Note that each example contains many features, but to make this visualization even simpler, we will work with two dimensions (that is, two features). \n",
    "\n",
    "Euclidean distance is best used to calculate the distance between vectors containing numerical values. Therefore, we will choose two features that have numerical values.\n",
    "\n",
    "Let us use row 0 and row 4 in DataFrame `df` and focus on features `HandsetModels` and `AgeHH1`. Run the code below to examine the two examples we will be plotting.\n",
    "\n"
   ]
  },
  {
   "cell_type": "code",
   "execution_count": null,
   "metadata": {},
   "outputs": [],
   "source": [
    "display(df.loc[[0,4],['HandsetModels','AgeHH1']])\n"
   ]
  },
  {
   "cell_type": "markdown",
   "metadata": {},
   "source": [
    "Each example (row) can be viewed as a vector:\n",
    "\n",
    "example 1: `(0.487071, 1.387766)`\n",
    "\n",
    "example 2:  `(1.590917, 0.663601)`\n",
    "\n",
    "\n",
    "You will use the Euclidean distance  formula to find the distance between these two vectors. First, let's plot these vectors. Run the code cell below to generate a plot. Examine the resulting plot."
   ]
  },
  {
   "cell_type": "code",
   "execution_count": null,
   "metadata": {},
   "outputs": [],
   "source": [
    "# example 1 (row 0):\n",
    "vector_A = [df.loc[0]['HandsetModels'], df.loc[0]['AgeHH1']]\n",
    "\n",
    "# example 2 (row 4):\n",
    "vector_B = [df.loc[4]['HandsetModels'], df.loc[4]['AgeHH1']]\n",
    "\n",
    "\n",
    "plt.scatter(vector_A[0],vector_A[1] ,c='b',label='example 1')\n",
    "plt.scatter(vector_B[0],vector_B[1], c='r', label='example 2')\n",
    "plt.plot([vector_A[0],vector_B[0]], [vector_A[1],vector_B[1]], c='g', linestyle='dashed', label ='distance')\n",
    "\n",
    "plt.xlim([0, 3])\n",
    "plt.ylim([0, 3])\n",
    "plt.xlabel('HandsetModels')\n",
    "plt.ylabel('AgeHH1')\n",
    "\n",
    "plt.legend(loc='upper right');\n",
    "plt.show()"
   ]
  },
  {
   "cell_type": "markdown",
   "metadata": {},
   "source": [
    "You will use the Euclidean distance formula to find the distance between these two vectors. \n",
    "\n",
    "\n",
    "Use the Euclidean distance formula to calculate the distance between `vector_A` and `vector_B` by hand and save the result to variable `euc_distance`.\n",
    "\n",
    "For simplicity, use the following rounded vector values in your calculation:\n",
    "\n",
    "vector_A: `(0.5, 1.4)`\n",
    "\n",
    "vector_B:  `(1.6, 0.7)`"
   ]
  },
  {
   "cell_type": "markdown",
   "metadata": {},
   "source": [
    "### Graded Cell\n",
    "The cell below will be graded. Remove the line \"raise NotImplementedError()\" before writing your code."
   ]
  },
  {
   "cell_type": "code",
   "execution_count": null,
   "metadata": {
    "deletable": false,
    "nbgrader": {
     "checksum": "48de3eedb55c2434f561e260e54692bb",
     "grade": false,
     "grade_id": "cell-03480691ea6072e3",
     "locked": false,
     "schema_version": 1,
     "solution": true
    }
   },
   "outputs": [],
   "source": [
    "# YOUR CODE HERE\n",
    "raise NotImplementedError()"
   ]
  },
  {
   "cell_type": "markdown",
   "metadata": {},
   "source": [
    "### Self-Check\n",
    "\n",
    "Run the cell below to test the correctness of your code above before submitting for grading. Do not add code or delete code in the cell."
   ]
  },
  {
   "cell_type": "code",
   "execution_count": null,
   "metadata": {
    "deletable": false,
    "editable": false,
    "nbgrader": {
     "checksum": "59aaf7d7aa51b4d41d5bec624c7c6b65",
     "grade": true,
     "grade_id": "cell-6b2a028e2d7075da",
     "locked": true,
     "points": 1,
     "schema_version": 1,
     "solution": false
    }
   },
   "outputs": [],
   "source": [
    "# Run this self-test cell to check your code; \n",
    "# do not add code or delete code in this cell\n",
    "from jn import testEuc\n",
    "\n",
    "try:\n",
    "    p, err = testEuc(euc_distance)\n",
    "    print(err)\n",
    "except Exception as e:\n",
    "    print(\"Error!\\n\" + str(e))\n",
    "    \n"
   ]
  },
  {
   "cell_type": "markdown",
   "metadata": {},
   "source": [
    "## Step 1: Filter Numerical Features"
   ]
  },
  {
   "cell_type": "markdown",
   "metadata": {},
   "source": [
    "We will now compute the Euclidean distance between two rows in DataFrame `df`, using all of their numerical feature values. Let us create a new DataFrame that contains only the numerically valued columns of the original `df` DataFrame."
   ]
  },
  {
   "cell_type": "code",
   "execution_count": null,
   "metadata": {},
   "outputs": [],
   "source": [
    "df_numerical = df.select_dtypes(include=['int64','float64'])\n",
    "\n",
    "print(df_numerical.shape)\n",
    "df_numerical.head()\n"
   ]
  },
  {
   "cell_type": "markdown",
   "metadata": {},
   "source": [
    "We will exclude the `CustomerID` column, since it contains the customer ID and is not a feature that we want to consider."
   ]
  },
  {
   "cell_type": "code",
   "execution_count": null,
   "metadata": {},
   "outputs": [],
   "source": [
    "df_numerical = df_numerical.drop(columns=['CustomerID'])\n",
    "df_numerical.head()"
   ]
  },
  {
   "cell_type": "markdown",
   "metadata": {},
   "source": [
    "We will compute the Euclidean distance between two examples in our data. In other words, our vectors $A$ and $B$ will be two distinct *rows* of our DataFrame `df_numerical` (which we filtered to include only numerical columns).\n",
    "\n",
    "The code cell below randomly samples two rows from the `df_numerical` dataset and stores each in new DataFrame objects named `A` and `B`, respectively."
   ]
  },
  {
   "cell_type": "code",
   "execution_count": null,
   "metadata": {},
   "outputs": [],
   "source": [
    "A = df_numerical.sample(replace=False)\n",
    "B = df_numerical.sample(replace=False)"
   ]
  },
  {
   "cell_type": "code",
   "execution_count": null,
   "metadata": {},
   "outputs": [],
   "source": [
    "A"
   ]
  },
  {
   "cell_type": "code",
   "execution_count": null,
   "metadata": {},
   "outputs": [],
   "source": [
    "B"
   ]
  },
  {
   "cell_type": "markdown",
   "metadata": {},
   "source": [
    "## Step 2: Compute the Euclidean Distance Between Two Vectors Using Python"
   ]
  },
  {
   "cell_type": "markdown",
   "metadata": {},
   "source": [
    "We will first implement a function that finds the Euclidean distance in Python. Since we will be working with Python, let us convert DataFrames `A` and `B` into Python lists."
   ]
  },
  {
   "cell_type": "code",
   "execution_count": null,
   "metadata": {},
   "outputs": [],
   "source": [
    "list_A = A.values.flatten().tolist()\n",
    "list_B = B.values.flatten().tolist()\n",
    "\n",
    "list_A\n"
   ]
  },
  {
   "cell_type": "markdown",
   "metadata": {},
   "source": [
    "Using the definition above, complete the function below that returns the Euclidean distance between its two list inputs. <br>\n",
    "\n",
    "You will use a traditional `for` loop to handle the computation for each pair of i-th coordinates of the two input lists (You can think of each pair as a 'column' in a DataFrame with just two rows -- $A$ and $B$.). \n",
    "\n",
    "<b>Tip</b>: to compute the square root, use the Python `math.sqrt()` function."
   ]
  },
  {
   "cell_type": "markdown",
   "metadata": {},
   "source": [
    "### Graded Cell\n",
    "The cell below will be graded. Remove the line \"raise NotImplementedError()\" before writing your code."
   ]
  },
  {
   "cell_type": "code",
   "execution_count": null,
   "metadata": {
    "deletable": false,
    "nbgrader": {
     "checksum": "b4d9ce17550d66b1d4623531ec18872f",
     "grade": false,
     "grade_id": "cell-9b3d005cee49b721",
     "locked": false,
     "schema_version": 1,
     "solution": true
    }
   },
   "outputs": [],
   "source": [
    "def euclidean_distance(vector1 , vector2):\n",
    "    ## the sum_squares variable will contain the current value of the sum of squares of each i-th coordinate pair\n",
    "    sum_squares = 0\n",
    "    \n",
    "    numberOfIterations = len(vector1)\n",
    "    \n",
    "    ## TODO: Complete loop below ## \n",
    "    \n",
    "    # The number of times the loop will be executed is the length of the vectors.\n",
    "    # \n",
    "    # At each loop iteration, you will:\n",
    "    #  Step 1. index into each vector and find the difference between the ith element in vector2 and vector1 \n",
    "    #  Step 2. square the difference\n",
    "    #  Step 3. update the value of the 'sum_squares' variable by adding the result in Step 2 to \n",
    "    #          the existing value of sum_squares\n",
    "    \n",
    "\n",
    "    for i in range(numberOfIterations):\n",
    "        \n",
    "        # Inside this loop follow steps 1-3 to update the value of the 'sum_squares' variable by\n",
    "        # adding the squared difference of the i'th coordinate pair to the sum.\n",
    "        \n",
    "\n",
    "        # YOUR CODE HERE\n",
    "        raise NotImplementedError()\n",
    "        \n",
    "\n",
    "    ### TODO: Compute the Distance ###  \n",
    "    \n",
    "    # Compute the square root of the variable 'sum_squares' and assign \n",
    "    # that result to a new variable named 'distance'\n",
    "    \n",
    "    # YOUR CODE HERE\n",
    "    raise NotImplementedError()\n",
    "    \n",
    "    # return the Euclidean distance\n",
    "    return distance"
   ]
  },
  {
   "cell_type": "markdown",
   "metadata": {},
   "source": [
    "### Self-Check\n",
    "\n",
    "Run the cell below to test the correctness of your code above before submitting for grading. Do not add code or delete code in the cell."
   ]
  },
  {
   "cell_type": "code",
   "execution_count": null,
   "metadata": {
    "deletable": false,
    "editable": false,
    "nbgrader": {
     "checksum": "edf1a4feaa4928ed2eaf3423bb488285",
     "grade": true,
     "grade_id": "cell-f034049af7f30a8a",
     "locked": true,
     "points": 3,
     "schema_version": 1,
     "solution": false
    }
   },
   "outputs": [],
   "source": [
    "# Run this self-test cell to check your code; \n",
    "# do not add code or delete code in this cell\n",
    "from jn import testFunction\n",
    "\n",
    "try:\n",
    "    p, err = testFunction(euclidean_distance)\n",
    "    print(err)\n",
    "except Exception as e:\n",
    "    print(\"Error!\\n\" + str(e))\n",
    "    \n"
   ]
  },
  {
   "cell_type": "markdown",
   "metadata": {},
   "source": [
    "The code cell below tests your function. Run the cell to view the results."
   ]
  },
  {
   "cell_type": "code",
   "execution_count": null,
   "metadata": {},
   "outputs": [],
   "source": [
    "euclidean_distance(list_A, list_B)\n"
   ]
  },
  {
   "cell_type": "markdown",
   "metadata": {},
   "source": [
    "## Step 3: Compute the Euclidean Distance Between Two Vectors Using NumPy "
   ]
  },
  {
   "cell_type": "markdown",
   "metadata": {},
   "source": [
    "The NumPy package provides an easy way to compute the Euclidean distance between two vectors. NumPy has a `norm()` function, which is part of a linear algebra module called `linalg.` You can call the function using this syntax: `np.linalg.norm()`. The `norm([vector_name])`finds a vector norm. A vector has both magnitude and direction, and calculating the vector norm finds the magnitude.\n",
    "\n",
    "By default, the `norm()` function calculates the L2 norm, also known as the Euclidean norm since it calculates the Euclidean distance. We can therefore use the  `norm()` function to calculate the distance between two vectors.\n",
    "\n",
    "The `norm()` function requires that its input vectors be of type NumPy array. The code cell below converts DataFrame `A` and `B` to NumPy arrays and uses the `norm()` function to find the Euclidean distance. \n",
    "\n",
    "Run the cell below and compare the results. Is the Euclidean distance the same value as what your function `euclidean_distance` produces? Try using the `norm()` function to find the Euclidean distance between the vectors `vector_A` and `vector_B` as well.\n",
    "\n"
   ]
  },
  {
   "cell_type": "code",
   "execution_count": null,
   "metadata": {},
   "outputs": [],
   "source": [
    "array1 = np.array(A)\n",
    "array2 = np.array(B)\n",
    "np.linalg.norm(array2-array1)\n"
   ]
  },
  {
   "cell_type": "markdown",
   "metadata": {},
   "source": [
    "You can see how easy it is to find the Euclidean distance between two vectors, or examples using NumPy! For more information about the `norm()` function, consult the online [documentation](https://numpy.org/doc/stable/reference/generated/numpy.linalg.norm.html)."
   ]
  }
 ],
 "metadata": {
  "kernelspec": {
   "display_name": "Python 3",
   "language": "python",
   "name": "python3"
  },
  "language_info": {
   "codemirror_mode": {
    "name": "ipython",
    "version": 3
   },
   "file_extension": ".py",
   "mimetype": "text/x-python",
   "name": "python",
   "nbconvert_exporter": "python",
   "pygments_lexer": "ipython3",
   "version": "3.13.5"
  },
  "toc": {
   "base_numbering": 1,
   "nav_menu": {},
   "number_sections": false,
   "sideBar": true,
   "skip_h1_title": false,
   "title_cell": "Table of Contents",
   "title_sidebar": "Contents",
   "toc_cell": false,
   "toc_position": {},
   "toc_section_display": true,
   "toc_window_display": false
  },
  "varInspector": {
   "cols": {
    "lenName": 16,
    "lenType": 16,
    "lenVar": 40
   },
   "kernels_config": {
    "python": {
     "delete_cmd_postfix": "",
     "delete_cmd_prefix": "del ",
     "library": "var_list.py",
     "varRefreshCmd": "print(var_dic_list())"
    },
    "r": {
     "delete_cmd_postfix": ") ",
     "delete_cmd_prefix": "rm(",
     "library": "var_list.r",
     "varRefreshCmd": "cat(var_dic_list()) "
    }
   },
   "types_to_exclude": [
    "module",
    "function",
    "builtin_function_or_method",
    "instance",
    "_Feature"
   ],
   "window_display": false
  }
 },
 "nbformat": 4,
 "nbformat_minor": 2
}
